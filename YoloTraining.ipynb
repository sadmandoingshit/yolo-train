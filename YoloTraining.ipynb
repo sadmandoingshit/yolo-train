{
  "nbformat": 4,
  "nbformat_minor": 0,
  "metadata": {
    "colab": {
      "provenance": [],
      "gpuType": "T4",
      "authorship_tag": "ABX9TyPRjuSA5iKbA/Jy8uaU1Zhf",
      "include_colab_link": true
    },
    "kernelspec": {
      "name": "python3",
      "display_name": "Python 3"
    },
    "language_info": {
      "name": "python"
    },
    "accelerator": "GPU"
  },
  "cells": [
    {
      "cell_type": "markdown",
      "metadata": {
        "id": "view-in-github",
        "colab_type": "text"
      },
      "source": [
        "<a href=\"https://colab.research.google.com/github/sadmandoingshit/yolo-train/blob/main/YoloTraining.ipynb\" target=\"_parent\"><img src=\"https://colab.research.google.com/assets/colab-badge.svg\" alt=\"Open In Colab\"/></a>"
      ]
    },
    {
      "cell_type": "code",
      "execution_count": null,
      "metadata": {
        "id": "DGW2SKI0SLiZ"
      },
      "outputs": [],
      "source": [
        "!nvidia-smi"
      ]
    },
    {
      "cell_type": "code",
      "source": [
        "!pip install ultralytics onnx onnxruntime onnxslim"
      ],
      "metadata": {
        "id": "VjnZj8NkSN-L"
      },
      "execution_count": null,
      "outputs": []
    },
    {
      "cell_type": "code",
      "source": [
        "import gdown\n",
        "import os\n",
        "\n",
        "# Google Drive file URL\n",
        "drive_url = \"https://drive.google.com/file/d/1X2is89w-076efrqJuuscMLtiYmWRvRP-/view?usp=sharing\"\n",
        "\n",
        "# Extract file ID from the URL\n",
        "file_id = drive_url.split('/d/')[1].split('/')[0]\n",
        "\n",
        "# Create direct download URL\n",
        "download_url = f\"https://drive.google.com/uc?id={file_id}\"\n",
        "\n",
        "# Download the file\n",
        "output_path = \"/content/data.zip\"\n",
        "gdown.download(download_url, output_path, quiet=False)\n",
        "\n",
        "print(f\"File downloaded to: {output_path}\")"
      ],
      "metadata": {
        "id": "0cJSEJU4Skp3"
      },
      "execution_count": null,
      "outputs": []
    },
    {
      "cell_type": "code",
      "source": [
        "!unzip -q /content/data.zip -d /content/custom_data"
      ],
      "metadata": {
        "id": "wElSzGm3U_Pv"
      },
      "execution_count": null,
      "outputs": []
    },
    {
      "cell_type": "code",
      "source": [
        "!wget -O /content/train_val_split.py https://raw.githubusercontent.com/EdjeElectronics/Train-and-Deploy-YOLO-Models/refs/heads/main/utils/train_val_split.py\n",
        "!python train_val_split.py --datapath=\"/content/custom_data\" --train_pct=0.9"
      ],
      "metadata": {
        "id": "vCu_PPwcVCm_"
      },
      "execution_count": null,
      "outputs": []
    },
    {
      "cell_type": "code",
      "source": [
        "# Python function to automatically create data.yaml config file\n",
        "# 1. Reads \"classes.txt\" file to get list of class names\n",
        "# 2. Creates data dictionary with correct paths to folders, number of classes, and names of classes\n",
        "# 3. Writes data in YAML format to data.yaml\n",
        "\n",
        "import yaml\n",
        "import os\n",
        "\n",
        "def create_data_yaml(path_to_classes_txt, path_to_data_yaml):\n",
        "\n",
        "  # Read class.txt to get class names\n",
        "  if not os.path.exists(path_to_classes_txt):\n",
        "    print(f'classes.txt file not found! Please create a classes.txt labelmap and move it to {path_to_classes_txt}')\n",
        "    return\n",
        "  with open(path_to_classes_txt, 'r') as f:\n",
        "    classes = []\n",
        "    for line in f.readlines():\n",
        "      if len(line.strip()) == 0: continue\n",
        "      classes.append(line.strip())\n",
        "  number_of_classes = len(classes)\n",
        "\n",
        "  # Create data dictionary\n",
        "  data = {\n",
        "      'path': '/content/data',\n",
        "      'train': 'train/images',\n",
        "      'val': 'validation/images',\n",
        "      'nc': number_of_classes,\n",
        "      'names': classes\n",
        "  }\n",
        "\n",
        "  # Write data to YAML file\n",
        "  with open(path_to_data_yaml, 'w') as f:\n",
        "    yaml.dump(data, f, sort_keys=False)\n",
        "  print(f'Created config file at {path_to_data_yaml}')\n",
        "\n",
        "  return\n",
        "\n",
        "# Define path to classes.txt and run function\n",
        "path_to_classes_txt = '/content/custom_data/classes.txt'\n",
        "path_to_data_yaml = '/content/data.yaml'\n",
        "\n",
        "create_data_yaml(path_to_classes_txt, path_to_data_yaml)\n",
        "\n",
        "print('\\nFile contents:\\n')\n",
        "!cat /content/data.yaml"
      ],
      "metadata": {
        "id": "OIKx7rXGVLTv"
      },
      "execution_count": null,
      "outputs": []
    },
    {
      "cell_type": "code",
      "source": [
        "#train\n",
        "!yolo detect train data=/content/data.yaml model=yolov5n.pt epochs=200 imgsz=480 patience=30"
      ],
      "metadata": {
        "id": "fAGqa5_EVNVK"
      },
      "execution_count": null,
      "outputs": []
    },
    {
      "cell_type": "code",
      "source": [
        "#test\n",
        "!yolo detect predict model=runs/detect/train/weights/best.pt source=data/validation/images save=True"
      ],
      "metadata": {
        "id": "2Y69HT8XVRKq"
      },
      "execution_count": null,
      "outputs": []
    },
    {
      "cell_type": "code",
      "source": [
        "import glob\n",
        "from IPython.display import Image, display\n",
        "for image_path in glob.glob(f'/content/runs/detect/predict/*.jpg')[:78]:\n",
        "  display(Image(filename=image_path, height=400))\n",
        "  print('\\n')\n"
      ],
      "metadata": {
        "id": "VD3RspCZVQ8y"
      },
      "execution_count": null,
      "outputs": []
    },
    {
      "cell_type": "code",
      "source": [
        "#Export to onnx\n",
        "!yolo export model=runs/detect/train/weights/best.pt format=onnx simplify=True dynamic=False opset=12 half=True device=0 imgsz=480 nms=False"
      ],
      "metadata": {
        "id": "oV-H0je4VUyg"
      },
      "execution_count": null,
      "outputs": []
    },
    {
      "cell_type": "code",
      "source": [
        "#copy paste onnx in the contents folder\n",
        "!cp /content/runs/detect/train/weights/best.onnx /content/best.onnx"
      ],
      "metadata": {
        "id": "Zwf4GY8OVXl5"
      },
      "execution_count": null,
      "outputs": []
    },
    {
      "cell_type": "code",
      "source": [
        "#Delete the onnx\n",
        "!rm -f /content/runs/detect/train/weights/best.onnx"
      ],
      "metadata": {
        "id": "doBku1VqbZeI"
      },
      "execution_count": null,
      "outputs": []
    },
    {
      "cell_type": "code",
      "source": [
        "# Download onnx\n",
        "from google.colab import files\n",
        "\n",
        "files.download('/content/runs/detect/train/weights/best.onnx')"
      ],
      "metadata": {
        "id": "j8PlUGvdVWuL"
      },
      "execution_count": null,
      "outputs": []
    },
    {
      "cell_type": "code",
      "source": [
        "# Download pt\n",
        "from google.colab import files\n",
        "\n",
        "files.download('/content/runs/detect/train/weights/best.pt')"
      ],
      "metadata": {
        "id": "xARWXxV8b8LB"
      },
      "execution_count": null,
      "outputs": []
    },
    {
      "cell_type": "code",
      "source": [
        "# Clean for new train\n",
        "!rm -f /content/*.pt\n",
        "!rm -rf /content/runs"
      ],
      "metadata": {
        "id": "XumaGc8llf9K"
      },
      "execution_count": null,
      "outputs": []
    }
  ]
}